{
 "cells": [
  {
   "cell_type": "code",
   "execution_count": 1,
   "id": "5f2e481a",
   "metadata": {},
   "outputs": [],
   "source": [
    "import sys"
   ]
  },
  {
   "cell_type": "code",
   "execution_count": 2,
   "id": "184343b3",
   "metadata": {},
   "outputs": [
    {
     "name": "stdout",
     "output_type": "stream",
     "text": [
      "1170\n",
      "bo,dd,eq,ik,lo,lu,ph,ro,rr,rw,uo,wx,yg\n"
     ]
    }
   ],
   "source": [
    "def solve():\n",
    "    with open(\"input.txt\", \"r\") as f:\n",
    "        lines = f.read().strip().splitlines()\n",
    "\n",
    "    # graph[node] = {neighbors}\n",
    "    graph = {}\n",
    "    for line in lines:\n",
    "        if not line.strip():\n",
    "            continue\n",
    "        a, b = line.split('-')\n",
    "        graph.setdefault(a, set()).add(b)\n",
    "        graph.setdefault(b, set()).add(a)\n",
    "\n",
    "    triangles = set()\n",
    "\n",
    "    for x in graph:\n",
    "        neighbors = sorted(graph[x])\n",
    "        for i in range(len(neighbors)):\n",
    "            for j in range(i + 1, len(neighbors)):\n",
    "                y = neighbors[i]\n",
    "                z = neighbors[j]\n",
    "                # Check if y and z are connected\n",
    "                if y in graph and z in graph[y]:\n",
    "                    tri = tuple(sorted([x, y, z]))\n",
    "                    triangles.add(tri)\n",
    "\n",
    "    count_t = sum(\n",
    "        1 for tri in triangles\n",
    "        if any(name.startswith('t') for name in tri)\n",
    "    )\n",
    "\n",
    "    # We'll use the Bron–Kerbosch algorithm, a classic backtracking approach\n",
    "    # for finding a maximum clique in an undirected graph.\n",
    "    all_nodes = list(graph.keys())\n",
    "\n",
    "    # For efficiency, also create a quick adjacency set for each node\n",
    "    adjacency = {node: graph[node] for node in graph}\n",
    "\n",
    "    max_clique = []\n",
    "\n",
    "    def bron_kerbosch(R, P, X):\n",
    "        nonlocal max_clique\n",
    "        # If P and X are both empty, we have a maximal clique R.\n",
    "        if not P and not X:\n",
    "            # Check if R is the largest clique found so far\n",
    "            if len(R) > len(max_clique):\n",
    "                max_clique = R.copy()\n",
    "            return\n",
    "\n",
    "        # Choose a pivot (here, just pick any node from P or X)\n",
    "        # Then we only explore nodes in P that are not neighbors of pivot\n",
    "        pivot = next(iter(P or X))\n",
    "\n",
    "        # Nodes to explore are P \\ N(pivot)\n",
    "        to_explore = P - adjacency[pivot]\n",
    "\n",
    "        for v in list(to_explore):\n",
    "            # R ∪ {v}\n",
    "            R_v = R | {v}\n",
    "            # P ∩ N(v)\n",
    "            P_v = P & adjacency[v]\n",
    "            # X ∩ N(v)\n",
    "            X_v = X & adjacency[v]\n",
    "\n",
    "            bron_kerbosch(R_v, P_v, X_v)\n",
    "\n",
    "            # Move v from P to X\n",
    "            P.remove(v)\n",
    "            X.add(v)\n",
    "\n",
    "    bron_kerbosch(set(), set(all_nodes), set())\n",
    "    password_list = sorted(max_clique)\n",
    "    password_str = \",\".join(password_list)\n",
    "\n",
    "    # Part 1\n",
    "    print(count_t)\n",
    "    # Part 2\n",
    "    print(password_str)\n",
    "\n",
    "if __name__ == \"__main__\":\n",
    "    solve()"
   ]
  }
 ],
 "metadata": {
  "kernelspec": {
   "display_name": "Python 3 (ipykernel)",
   "language": "python",
   "name": "python3"
  },
  "language_info": {
   "codemirror_mode": {
    "name": "ipython",
    "version": 3
   },
   "file_extension": ".py",
   "mimetype": "text/x-python",
   "name": "python",
   "nbconvert_exporter": "python",
   "pygments_lexer": "ipython3",
   "version": "3.11.4"
  }
 },
 "nbformat": 4,
 "nbformat_minor": 5
}
