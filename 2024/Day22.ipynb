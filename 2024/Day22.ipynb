{
 "cells": [
  {
   "cell_type": "code",
   "execution_count": 1,
   "id": "758ce9ce",
   "metadata": {},
   "outputs": [],
   "source": [
    "import sys"
   ]
  },
  {
   "cell_type": "code",
   "execution_count": 2,
   "id": "a763e0bb",
   "metadata": {},
   "outputs": [
    {
     "name": "stdout",
     "output_type": "stream",
     "text": [
      "20068964552\n",
      "2246\n"
     ]
    }
   ],
   "source": [
    "def evolve_secret(num):\n",
    "    \"\"\"\n",
    "    Evolve the secret number by one step using the puzzle's rules.\n",
    "    Returns the next secret number.\n",
    "    \"\"\"\n",
    "    MOD = 16777216\n",
    "\n",
    "    # Step 1: multiply by 64, XOR, prune\n",
    "    step1 = (num * 64) % MOD\n",
    "    num = (step1 ^ num) % MOD\n",
    "\n",
    "    # Step 2: floor-divide by 32, XOR, prune\n",
    "    step2 = num // 32\n",
    "    num = (num ^ step2) % MOD\n",
    "\n",
    "    # Step 3: multiply by 2048, XOR, prune\n",
    "    step3 = (num * 2048) % MOD\n",
    "    num = (num ^ step3) % MOD\n",
    "\n",
    "    return num\n",
    "\n",
    "def solve():\n",
    "    with open(\"input.txt\", \"r\") as f:\n",
    "        lines = f.read().strip().split()\n",
    "\n",
    "    part1_sum = 0            # Sum of final secrets after 2000 evolutions for Part 1\n",
    "    pattern_sums = {}        # Maps 4-change-pattern -> total bananas (sum of sell prices)\n",
    "    \n",
    "    for line in lines:\n",
    "        if not line.strip():\n",
    "            continue\n",
    "        # The buyer's initial secret number:\n",
    "        secret = int(line.strip())\n",
    "        \n",
    "        # We'll track 4 consecutive price changes in a sliding window.\n",
    "        # Initialize them to something that won't appear in real changes:\n",
    "        last_changes = [10, 10, 10, 10]\n",
    "        \n",
    "        # For Part 2, each buyer can only contribute once per pattern:\n",
    "        seen_patterns = set()\n",
    "\n",
    "        for _ in range(2000):\n",
    "            old_price = secret % 10\n",
    "            # Evolve the secret number by 1 step:\n",
    "            secret = evolve_secret(secret)\n",
    "            new_price = secret % 10\n",
    "            price_change = new_price - old_price\n",
    "            last_changes = last_changes[1:] + [price_change]\n",
    "            pattern = tuple(last_changes)\n",
    "\n",
    "            # If this buyer hasn't used that pattern yet, add to pattern_sums\n",
    "            if pattern not in seen_patterns:\n",
    "                seen_patterns.add(pattern)\n",
    "                pattern_sums[pattern] = pattern_sums.get(pattern, 0) + new_price\n",
    "\n",
    "        # After 2000 evolutions, add the final secret for Part 1\n",
    "        part1_sum += secret\n",
    "\n",
    "    # Part 1 \n",
    "    print(part1_sum)\n",
    "\n",
    "    # Part 2\n",
    "    if pattern_sums:\n",
    "        print(max(pattern_sums.values()))\n",
    "    else:\n",
    "        print(0)\n",
    "\n",
    "if __name__ == \"__main__\":\n",
    "    solve()"
   ]
  }
 ],
 "metadata": {
  "kernelspec": {
   "display_name": "Python 3 (ipykernel)",
   "language": "python",
   "name": "python3"
  },
  "language_info": {
   "codemirror_mode": {
    "name": "ipython",
    "version": 3
   },
   "file_extension": ".py",
   "mimetype": "text/x-python",
   "name": "python",
   "nbconvert_exporter": "python",
   "pygments_lexer": "ipython3",
   "version": "3.11.4"
  }
 },
 "nbformat": 4,
 "nbformat_minor": 5
}
