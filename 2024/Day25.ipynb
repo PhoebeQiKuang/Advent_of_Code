{
 "cells": [
  {
   "cell_type": "code",
   "execution_count": 1,
   "id": "53d3cfe0",
   "metadata": {},
   "outputs": [],
   "source": [
    "import numpy as np\n",
    "from io import StringIO"
   ]
  },
  {
   "cell_type": "code",
   "execution_count": 2,
   "id": "a753643a",
   "metadata": {},
   "outputs": [
    {
     "name": "stdout",
     "output_type": "stream",
     "text": [
      "2770\n"
     ]
    }
   ],
   "source": [
    "locks, keys = [], []\n",
    "height = 0\n",
    "data = open(\"input.txt\").read().split(\"\\n\\n\")\n",
    "for element in data:\n",
    "    field = np.genfromtxt(StringIO(element), dtype=str, comments=\"_\", delimiter=1)\n",
    "    height = field.shape[0]\n",
    "    value = np.sum(field == \"#\", axis=0)\n",
    "    keys.append(value) if np.any(field[-1, :] == \"#\") else locks.append(value)\n",
    "\n",
    "print(sum([np.all(lock + key <= height) for key in keys for lock in locks]))"
   ]
  }
 ],
 "metadata": {
  "kernelspec": {
   "display_name": "Python 3 (ipykernel)",
   "language": "python",
   "name": "python3"
  },
  "language_info": {
   "codemirror_mode": {
    "name": "ipython",
    "version": 3
   },
   "file_extension": ".py",
   "mimetype": "text/x-python",
   "name": "python",
   "nbconvert_exporter": "python",
   "pygments_lexer": "ipython3",
   "version": "3.11.4"
  }
 },
 "nbformat": 4,
 "nbformat_minor": 5
}
